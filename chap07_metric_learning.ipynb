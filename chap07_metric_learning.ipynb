{
  "nbformat": 4,
  "nbformat_minor": 0,
  "metadata": {
    "colab": {
      "name": "chap07-metric-learning.ipynb",
      "provenance": [],
      "collapsed_sections": [],
      "toc_visible": true
    },
    "kernelspec": {
      "name": "python3",
      "display_name": "Python 3"
    },
    "language_info": {
      "name": "python"
    },
    "accelerator": "GPU"
  },
  "cells": [
    {
      "cell_type": "markdown",
      "metadata": {
        "id": "7QeAd1DNEVtv"
      },
      "source": [
        "# 深層距離学習"
      ]
    },
    {
      "cell_type": "markdown",
      "metadata": {
        "id": "JD5z7-__FLGw"
      },
      "source": [
        "## Triplet Loss"
      ]
    },
    {
      "cell_type": "markdown",
      "metadata": {
        "id": "7GDjz_BHEdgQ"
      },
      "source": [
        "### tensorflow-addonsのインストール"
      ]
    },
    {
      "cell_type": "code",
      "metadata": {
        "colab": {
          "base_uri": "https://localhost:8080/"
        },
        "id": "ErjWvajR-r53",
        "outputId": "d9489b26-58f9-4fa0-8f15-a38a78f7b760"
      },
      "source": [
        "!pip install -U tensorflow-addons"
      ],
      "execution_count": 1,
      "outputs": [
        {
          "output_type": "stream",
          "name": "stdout",
          "text": [
            "Collecting tensorflow-addons\n",
            "  Downloading tensorflow_addons-0.14.0-cp37-cp37m-manylinux_2_12_x86_64.manylinux2010_x86_64.whl (1.1 MB)\n",
            "\u001b[K     |████████████████████████████████| 1.1 MB 4.3 MB/s \n",
            "\u001b[?25hRequirement already satisfied: typeguard>=2.7 in /usr/local/lib/python3.7/dist-packages (from tensorflow-addons) (2.7.1)\n",
            "Installing collected packages: tensorflow-addons\n",
            "Successfully installed tensorflow-addons-0.14.0\n"
          ]
        }
      ]
    },
    {
      "cell_type": "markdown",
      "metadata": {
        "id": "YcAIus31Eori"
      },
      "source": [
        "### データのロード"
      ]
    },
    {
      "cell_type": "code",
      "metadata": {
        "id": "BnB2h_nTEm2O"
      },
      "source": [
        "from tensorflow.keras.datasets import mnist\n",
        "from tensorflow.keras.utils import to_categorical\n",
        "\n",
        "(x_train, y_train), (x_test, y_test) = mnist.load_data()\n",
        "\n",
        "x_train = x_train.reshape(-1, 28, 28, 1)\n",
        "x_test = x_test.reshape(-1, 28, 28, 1)\n",
        "\n",
        "x_train = (x_train - 127.5) / 127.5\n",
        "x_test = (x_test - 127.5) / 127.5"
      ],
      "execution_count": 2,
      "outputs": []
    },
    {
      "cell_type": "markdown",
      "metadata": {
        "id": "yW4HQiz8EtLb"
      },
      "source": [
        "### モデルの定義"
      ]
    },
    {
      "cell_type": "code",
      "metadata": {
        "id": "jLx-r2pnErAM"
      },
      "source": [
        "import tensorflow as tf\n",
        "from tensorflow.keras import layers, models\n",
        "\n",
        "inputs = layers.Input(shape=(28, 28, 1))\n",
        "x = layers.Conv2D(filters=64, kernel_size=2, padding='same')(inputs)\n",
        "x = layers.BatchNormalization()(x)\n",
        "x = layers.Activation('relu')(x)\n",
        "x = layers.Conv2D(filters=32, kernel_size=2, padding='same')(x)\n",
        "x = layers.BatchNormalization()(x)\n",
        "x = layers.Activation('relu')(x)\n",
        "x = layers.Flatten()(x)\n",
        "x = layers.Dense(256, activation=None)(x)\n",
        "x = layers.Lambda(lambda _x: tf.math.l2_normalize(_x, axis=1))(x)\n",
        "\n",
        "model = models.Model(inputs, x)"
      ],
      "execution_count": 3,
      "outputs": []
    },
    {
      "cell_type": "code",
      "metadata": {
        "colab": {
          "base_uri": "https://localhost:8080/"
        },
        "id": "R-Eazsl7ExqG",
        "outputId": "b0633eed-9f44-4322-c19a-3eb68155440d"
      },
      "source": [
        "model.summary()"
      ],
      "execution_count": 4,
      "outputs": [
        {
          "output_type": "stream",
          "name": "stdout",
          "text": [
            "Model: \"model\"\n",
            "_________________________________________________________________\n",
            "Layer (type)                 Output Shape              Param #   \n",
            "=================================================================\n",
            "input_1 (InputLayer)         [(None, 28, 28, 1)]       0         \n",
            "_________________________________________________________________\n",
            "conv2d (Conv2D)              (None, 28, 28, 64)        320       \n",
            "_________________________________________________________________\n",
            "batch_normalization (BatchNo (None, 28, 28, 64)        256       \n",
            "_________________________________________________________________\n",
            "activation (Activation)      (None, 28, 28, 64)        0         \n",
            "_________________________________________________________________\n",
            "conv2d_1 (Conv2D)            (None, 28, 28, 32)        8224      \n",
            "_________________________________________________________________\n",
            "batch_normalization_1 (Batch (None, 28, 28, 32)        128       \n",
            "_________________________________________________________________\n",
            "activation_1 (Activation)    (None, 28, 28, 32)        0         \n",
            "_________________________________________________________________\n",
            "flatten (Flatten)            (None, 25088)             0         \n",
            "_________________________________________________________________\n",
            "dense (Dense)                (None, 256)               6422784   \n",
            "_________________________________________________________________\n",
            "lambda (Lambda)              (None, 256)               0         \n",
            "=================================================================\n",
            "Total params: 6,431,712\n",
            "Trainable params: 6,431,520\n",
            "Non-trainable params: 192\n",
            "_________________________________________________________________\n"
          ]
        }
      ]
    },
    {
      "cell_type": "markdown",
      "metadata": {
        "id": "Isqrm7qZE3-n"
      },
      "source": [
        "### モデルのコンパイル (Semihard Negative Miningを損失に利用)"
      ]
    },
    {
      "cell_type": "code",
      "metadata": {
        "id": "Y0BaNB8nE2AN"
      },
      "source": [
        "import tensorflow_addons as tfa\n",
        "\n",
        "model.compile(\n",
        "    optimizer=tf.keras.optimizers.Adam(1e-4),\n",
        "    loss=tfa.losses.TripletSemiHardLoss())\n"
      ],
      "execution_count": 5,
      "outputs": []
    },
    {
      "cell_type": "markdown",
      "metadata": {
        "id": "LRimtYLCFAuy"
      },
      "source": [
        "### 学習"
      ]
    },
    {
      "cell_type": "code",
      "metadata": {
        "colab": {
          "base_uri": "https://localhost:8080/"
        },
        "id": "ZFOHaXicFC5J",
        "outputId": "67764a3b-b24b-4fb4-f56e-60f3a2bc29df"
      },
      "source": [
        "model.fit(x_train, y_train, epochs=5)"
      ],
      "execution_count": 6,
      "outputs": [
        {
          "output_type": "stream",
          "name": "stdout",
          "text": [
            "Epoch 1/5\n",
            "1875/1875 [==============================] - 10s 4ms/step - loss: 0.5153\n",
            "Epoch 2/5\n",
            "1875/1875 [==============================] - 7s 4ms/step - loss: 0.3645\n",
            "Epoch 3/5\n",
            "1875/1875 [==============================] - 7s 4ms/step - loss: 0.3167\n",
            "Epoch 4/5\n",
            "1875/1875 [==============================] - 7s 4ms/step - loss: 0.2900\n",
            "Epoch 5/5\n",
            "1875/1875 [==============================] - 7s 4ms/step - loss: 0.2718\n"
          ]
        },
        {
          "output_type": "execute_result",
          "data": {
            "text/plain": [
              "<keras.callbacks.History at 0x7f3cc02dc150>"
            ]
          },
          "metadata": {},
          "execution_count": 6
        }
      ]
    },
    {
      "cell_type": "markdown",
      "metadata": {
        "id": "xf5WP3CrFFcP"
      },
      "source": [
        "### 埋め込みベクトルの取得"
      ]
    },
    {
      "cell_type": "code",
      "metadata": {
        "id": "dVdHbsGfFG4L"
      },
      "source": [
        "embeddings = model.predict(x_test)"
      ],
      "execution_count": 7,
      "outputs": []
    },
    {
      "cell_type": "markdown",
      "metadata": {
        "id": "XQWxa6DuFTAe"
      },
      "source": [
        "### t-SNEを使った可視化"
      ]
    },
    {
      "cell_type": "markdown",
      "metadata": {
        "id": "gP4_5kpIFqPM"
      },
      "source": [
        "インストール"
      ]
    },
    {
      "cell_type": "code",
      "metadata": {
        "colab": {
          "base_uri": "https://localhost:8080/"
        },
        "id": "lmoIzuo0Fcp-",
        "outputId": "e837cc72-dd26-4d19-e6c9-254f40219ec4"
      },
      "source": [
        "!pip install MulticoreTSNE==0.1"
      ],
      "execution_count": 8,
      "outputs": [
        {
          "output_type": "stream",
          "name": "stdout",
          "text": [
            "Collecting MulticoreTSNE==0.1\n",
            "  Downloading MulticoreTSNE-0.1.tar.gz (20 kB)\n",
            "Requirement already satisfied: numpy in /usr/local/lib/python3.7/dist-packages (from MulticoreTSNE==0.1) (1.19.5)\n",
            "Requirement already satisfied: cffi in /usr/local/lib/python3.7/dist-packages (from MulticoreTSNE==0.1) (1.14.6)\n",
            "Requirement already satisfied: pycparser in /usr/local/lib/python3.7/dist-packages (from cffi->MulticoreTSNE==0.1) (2.20)\n",
            "Building wheels for collected packages: MulticoreTSNE\n",
            "  Building wheel for MulticoreTSNE (setup.py) ... \u001b[?25l\u001b[?25hdone\n",
            "  Created wheel for MulticoreTSNE: filename=MulticoreTSNE-0.1-cp37-cp37m-linux_x86_64.whl size=68518 sha256=6faff2493dc6a7147fbcffc3a9e1ae4cddef89408056692bb08687081f2d2b5c\n",
            "  Stored in directory: /root/.cache/pip/wheels/80/47/df/c0d66e9f775f33281c422a1964de86a59c47f93bb8c37643e3\n",
            "Successfully built MulticoreTSNE\n",
            "Installing collected packages: MulticoreTSNE\n",
            "Successfully installed MulticoreTSNE-0.1\n"
          ]
        }
      ]
    },
    {
      "cell_type": "markdown",
      "metadata": {
        "id": "W8O2lPdVFstL"
      },
      "source": [
        "2次元に埋め込み"
      ]
    },
    {
      "cell_type": "code",
      "metadata": {
        "id": "JDcqglCcFrAa"
      },
      "source": [
        "from MulticoreTSNE import MulticoreTSNE as TSNE\n",
        "\n",
        "tsne = TSNE(n_components=2, n_jobs=2)\n",
        "tsne_embeddings = tsne.fit_transform(embeddings)"
      ],
      "execution_count": 9,
      "outputs": []
    },
    {
      "cell_type": "markdown",
      "metadata": {
        "id": "Ri52fPEYFwvw"
      },
      "source": [
        "可視化"
      ]
    },
    {
      "cell_type": "code",
      "metadata": {
        "colab": {
          "base_uri": "https://localhost:8080/",
          "height": 269
        },
        "id": "DSuSHkdAFxmP",
        "outputId": "e137fa1e-04a2-41e2-a84c-563e4c37fb75"
      },
      "source": [
        "import matplotlib.pyplot as plt\n",
        "\n",
        "plt.scatter(\n",
        "    tsne_embeddings[:, 0], \n",
        "    tsne_embeddings[:, 1],\n",
        "    c=y_test, \n",
        "    cmap=plt.cm.get_cmap(\"jet\", 10),  # カラーマップの指定（jet)\n",
        "    marker='.' # markerの指定 (点)\n",
        ")\n",
        "plt.colorbar()\n",
        "plt.show()"
      ],
      "execution_count": 10,
      "outputs": [
        {
          "output_type": "display_data",
          "data": {
            "image/png": "[encoded data removed]",
            "text/plain": [
              "<Figure size 432x288 with 2 Axes>"
            ]
          },
          "metadata": {
            "needs_background": "light"
          }
        }
      ]
    },
    {
      "cell_type": "markdown",
      "metadata": {
        "id": "tBK1wloIF3JK"
      },
      "source": [
        "## ArcFace"
      ]
    },
    {
      "cell_type": "markdown",
      "metadata": {
        "id": "5TXaMKmacDuh"
      },
      "source": [
        "### ArcFaceのLayerを定義\n",
        "\n",
        "参考: https://github.com/4uiiurz1/keras-arcface"
      ]
    },
    {
      "cell_type": "code",
      "metadata": {
        "id": "JbBPsErNF1Zv"
      },
      "source": [
        "from tensorflow.keras import backend as K\n",
        "from tensorflow.keras import layers\n",
        "from tensorflow.keras import regularizers\n",
        "\n",
        "import tensorflow as tf\n",
        "\n",
        "class ArcFace(layers.Layer):\n",
        "    def __init__(self, n_classes=10, s=30.0,\n",
        "                 m=0.50, regularizer=None, **kwargs):\n",
        "        super().__init__(**kwargs)\n",
        "        self.n_classes = n_classes\n",
        "        self.s = s\n",
        "        self.m = m\n",
        "        self.regularizer = regularizers.get(regularizer)\n",
        "\n",
        "    def build(self, input_shape):\n",
        "        super().build(input_shape[0])\n",
        "        self.W = self.add_weight(\n",
        "            name='W',\n",
        "            shape=(input_shape[0][-1], self.n_classes),\n",
        "            initializer='glorot_uniform',\n",
        "            trainable=True,\n",
        "            regularizer=self.regularizer)\n",
        "\n",
        "    def call(self, inputs):\n",
        "        x, y = inputs\n",
        "        x = tf.nn.l2_normalize(x, axis=1)  # ①\n",
        "        W = tf.nn.l2_normalize(self.W, axis=0)\n",
        "        logits = x @ W  # ②\n",
        "        clipped_logits = K.clip(\n",
        "            logits,\n",
        "            -1.0 + K.epsilon(),\n",
        "            1.0 - K.epsilon())\n",
        "        theta = tf.acos(clipped_logits)  # ③\n",
        "        target_logits = tf.cos(theta + self.m)\n",
        "        logits = logits * (1 - y) + target_logits * y # ④\n",
        "        logits *= self.s # ⑥\n",
        "        out = tf.nn.softmax(logits)\n",
        "        return out\n",
        "\n",
        "    def compute_output_shape(self, input_shape):\n",
        "        return (None, self.n_classes)"
      ],
      "execution_count": 11,
      "outputs": []
    },
    {
      "cell_type": "markdown",
      "metadata": {
        "id": "iZl96cN6cC2a"
      },
      "source": [
        "### ArcFaceを接続"
      ]
    },
    {
      "cell_type": "code",
      "metadata": {
        "id": "cf9PXAMFbxXb"
      },
      "source": [
        "import numpy as np\n",
        "\n",
        "num_classes = 10\n",
        "\n",
        "input_layer = layers.Input(shape=(28, 28, 1))\n",
        "\n",
        "x = layers.Conv2D(filters=64, kernel_size=2,\n",
        "                  padding='same', activation='relu')(input_layer)\n",
        "x = layers.BatchNormalization()(x)\n",
        "x = layers.Conv2D(filters=32, kernel_size=2,\n",
        "                  padding='same', activation='relu')(x)\n",
        "x = layers.BatchNormalization()(x)\n",
        "x = layers.Flatten()(x)\n",
        "x = layers.Dense(256, activation=None)(x)\n",
        "y = layers.Input(shape=(10,))\n",
        "output = ArcFace(n_classes=num_classes,\n",
        "                 regularizer=regularizers.l2(1e-4))([x, y])\n",
        "\n",
        "model = tf.keras.Model([input_layer, y], output)"
      ],
      "execution_count": 12,
      "outputs": []
    },
    {
      "cell_type": "markdown",
      "metadata": {
        "id": "w_ymYF8scQGu"
      },
      "source": [
        "### ArcFaceの学習"
      ]
    },
    {
      "cell_type": "code",
      "metadata": {
        "colab": {
          "base_uri": "https://localhost:8080/"
        },
        "id": "Sdg4McLgcSFm",
        "outputId": "76aecc64-e4f7-4b53-8779-145db466915d"
      },
      "source": [
        "from tensorflow.keras.utils import to_categorical\n",
        "\n",
        "y_cate_train = to_categorical(y_train, 10)\n",
        "y_cate_test = to_categorical(y_test, 10)\n",
        "\n",
        "model.compile(loss='categorical_crossentropy',\n",
        "              optimizer='adam',\n",
        "              metrics=['accuracy'])\n",
        "\n",
        "model.fit([x_train, y_cate_train], y_cate_train, epochs=5)"
      ],
      "execution_count": 13,
      "outputs": [
        {
          "output_type": "stream",
          "name": "stdout",
          "text": [
            "Epoch 1/5\n",
            "1875/1875 [==============================] - 9s 4ms/step - loss: 1.4527 - accuracy: 0.8367\n",
            "Epoch 2/5\n",
            "1875/1875 [==============================] - 8s 4ms/step - loss: 0.7022 - accuracy: 0.9064\n",
            "Epoch 3/5\n",
            "1875/1875 [==============================] - 8s 4ms/step - loss: 0.5043 - accuracy: 0.9266\n",
            "Epoch 4/5\n",
            "1875/1875 [==============================] - 8s 4ms/step - loss: 0.3629 - accuracy: 0.9410\n",
            "Epoch 5/5\n",
            "1875/1875 [==============================] - 8s 4ms/step - loss: 0.2674 - accuracy: 0.9510\n"
          ]
        },
        {
          "output_type": "execute_result",
          "data": {
            "text/plain": [
              "<keras.callbacks.History at 0x7f3c56134590>"
            ]
          },
          "metadata": {},
          "execution_count": 13
        }
      ]
    },
    {
      "cell_type": "markdown",
      "metadata": {
        "id": "bXCiOgDTcUxJ"
      },
      "source": [
        "### モデルを利用する"
      ]
    },
    {
      "cell_type": "code",
      "metadata": {
        "colab": {
          "base_uri": "https://localhost:8080/"
        },
        "id": "DQ2KySQHcVfH",
        "outputId": "975e5f3a-2062-400c-a110-272b223aceed"
      },
      "source": [
        "import numpy as np \n",
        "from tensorflow.keras import models\n",
        "\n",
        "embedding_model = models.Model(\n",
        "    inputs=model.input[0],\n",
        "    outputs=model.layers[-3].output)\n",
        "embeddings = embedding_model.predict(x_test, verbose=1)\n",
        "embeddings /= np.linalg.norm(embeddings, axis=1, keepdims=True)"
      ],
      "execution_count": 14,
      "outputs": [
        {
          "output_type": "stream",
          "name": "stdout",
          "text": [
            "313/313 [==============================] - 0s 1ms/step\n"
          ]
        }
      ]
    }
  ]
}